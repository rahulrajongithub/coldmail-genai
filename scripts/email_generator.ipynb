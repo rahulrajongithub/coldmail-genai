{
  "nbformat": 4,
  "nbformat_minor": 0,
  "metadata": {
    "colab": {
      "provenance": []
    },
    "kernelspec": {
      "name": "python3",
      "display_name": "Python 3"
    },
    "language_info": {
      "name": "python"
    }
  },
  "cells": [
    {
      "cell_type": "code",
      "execution_count": null,
      "metadata": {
        "id": "6H2O2YDpjfr5"
      },
      "outputs": [],
      "source": [
        "%pip install -q langchain langchain_groq langchain_community"
      ]
    },
    {
      "cell_type": "code",
      "source": [
        "# Get API Keys\n",
        "\n",
        "api_keys = {}\n",
        "\n",
        "def load_api_keys(filename=\"api_keys.txt\"):\n",
        "\n",
        "    try:\n",
        "        with open(filename, \"r\") as file:\n",
        "            for line in file:\n",
        "                line = line.strip()  # Remove leading/trailing spaces\n",
        "                if line:  # Ignore empty lines\n",
        "                    key, value = line.split(\"=\")\n",
        "                    api_keys[key] = value.strip('\"')  # Remove quotes if present\n",
        "    except FileNotFoundError:\n",
        "        print(f\"Error: {filename} not found.\")\n",
        "\n",
        "load_api_keys(\"API_key.txt\")\n"
      ],
      "metadata": {
        "id": "A8cquymvuvR6"
      },
      "execution_count": 13,
      "outputs": []
    },
    {
      "cell_type": "code",
      "source": [
        "from langchain_groq import ChatGroq\n",
        "\n",
        "llm = ChatGroq(\n",
        "    model = \"llama-3.1-8b-instant\",\n",
        "    groq_api_key = api_keys[\"groq_api\"],\n",
        "    temperature = 0\n",
        ")"
      ],
      "metadata": {
        "id": "2KnM0ua_jn_0"
      },
      "execution_count": 14,
      "outputs": []
    },
    {
      "cell_type": "code",
      "source": [
        "response = llm.invoke(\"Captial of kerala is ...\")\n",
        "response.content"
      ],
      "metadata": {
        "id": "6IjiFyIgkMbD"
      },
      "execution_count": null,
      "outputs": []
    },
    {
      "cell_type": "code",
      "source": [
        "# Setup Beautiful soup for web scraping\n",
        "\n",
        "from bs4 import BeautifulSoup\n",
        "import requests\n",
        "\n",
        "def get_page_content(url):\n",
        "  try:\n",
        "    response = requests.get(url)\n",
        "    response.raise_for_status() # Check for request errors\n",
        "\n",
        "    # Parse HTML with BeautifulSoup\n",
        "    soup = BeautifulSoup(response.text, \"html.parser\")\n",
        "\n",
        "    # Removing script and style contents\n",
        "    for unwanted in soup([\"script\", \"style\"]):\n",
        "      unwanted.decompose()\n",
        "\n",
        "    # Extract clean text\n",
        "    visible_text = soup.get_text(separator=\"\\n\", strip=True)\n",
        "\n",
        "    # Return full page content as a string\n",
        "    return visible_text\n",
        "\n",
        "  except:\n",
        "    return f\"Error: {e}\"\n",
        "\n",
        "url = \"https://careers.nike.com/information-security-analyst-grc-itc/job/R-61563\"\n",
        "page_content = get_page_content(url)\n",
        "print(type(page_content))"
      ],
      "metadata": {
        "id": "TlDaKsK60jaj"
      },
      "execution_count": null,
      "outputs": []
    },
    {
      "cell_type": "code",
      "source": [
        "# job link - https://digitalcareers.infosys.com/global-careers/company-job/description/reqid/131625BR\n",
        "\n",
        "from langchain_community.document_loaders import WebBaseLoader\n",
        "\n",
        "loader = WebBaseLoader(\"https://careers.quest-global.com/global/en/job/P-107295/Quality-Engineer-3rd-Shift\")\n",
        "page_content = loader.load().pop().page_content\n",
        "print(type(page_content))"
      ],
      "metadata": {
        "id": "Z5YwvnaDkUAo"
      },
      "execution_count": null,
      "outputs": []
    },
    {
      "cell_type": "code",
      "source": [
        "# stuff I used to navigate colab file directories\n",
        "\n",
        "import subprocess\n",
        "\n",
        "command = \"ls\"\n",
        "result = subprocess.run(command, shell = True, capture_output = True, text = True)\n",
        "\n",
        "print(result.stdout)"
      ],
      "metadata": {
        "id": "foeq3a_Jrj8u"
      },
      "execution_count": null,
      "outputs": []
    }
  ]
}